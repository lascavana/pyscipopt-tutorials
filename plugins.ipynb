{
 "cells": [
  {
   "cell_type": "markdown",
   "metadata": {},
   "source": [
    "# PySCIPOpt Tutorial: How to write your own plug-ins\n",
    "\n",
    "In this notebook you will find an introduction to writing custom plug-ins for SCIP using the Python interface (PySCIPOpt). In particular, I will show, through examples, how to write custom branching rules and node selection rules.\n",
    "\n",
    "I will assume a basic understanding of the branch-and-bound algorithm and other common techniques to tackle Mixed Integer Programs (MIPs).\n",
    "\n",
    "&nbsp;\n",
    "<br />\n",
    "&nbsp;\n",
    "<br />"
   ]
  },
  {
   "cell_type": "markdown",
   "metadata": {},
   "source": [
    "# 1. Reading and solving your instance\n",
    "\n",
    "Let's start by reading an instance from an .lp file and solving it. The following code will do so by using all default SCIP settings. "
   ]
  },
  {
   "cell_type": "code",
   "execution_count": 28,
   "metadata": {},
   "outputs": [],
   "source": [
    "import pyscipopt as scip\n",
    "import numpy as np\n",
    "import random\n",
    "\n",
    "filename = 'instance.lp'\n",
    "\n",
    "model = scip.Model()\n",
    "model.readProblem(filename)\n",
    "model.optimize()\n",
    "model.freeProb()"
   ]
  },
  {
   "cell_type": "markdown",
   "metadata": {},
   "source": [
    "SCIP has a great deal of parameters. You can find a complete list [here](https://www.scipopt.org/doc-7.0.0/html/PARAMETERS.php).\n",
    "\n",
    "When using the python interface, there is an easy way to set the parameters to something different to the default values. In this case, let's set the verbosity level to zero."
   ]
  },
  {
   "cell_type": "code",
   "execution_count": null,
   "metadata": {},
   "outputs": [],
   "source": [
    "model = scip.Model()\n",
    "model.readProblem(filename)\n",
    "model.setParam('display/verblevel', 0)\n",
    "model.optimize()\n",
    "model.freeProb()"
   ]
  },
  {
   "cell_type": "markdown",
   "metadata": {},
   "source": [
    "&nbsp;\n",
    "<br />\n",
    "&nbsp;\n",
    "<br />"
   ]
  },
  {
   "cell_type": "markdown",
   "metadata": {},
   "source": [
    "# 2. How to create a custom branching rule\n",
    "\n",
    "Branching rules dictate how the search space is partitioned. The most common approach is to choose from the set of integer variables with a fractional value in the current LP-relaxation solution, to then partition the space by restricting the bounds of this variable.\n",
    "\n",
    "This is, imagine we process a node and obtain a solution $\\tilde{x}$ to the LP-relaxation. Say that variable $j$ (which is an integer variable) takes value $\\tilde{x}_j=2.6$. This obviously violates the integrality constraints. Therefore, we can create two child nodes by imposing $x_j\\leq 2$ on the left one and $x_j\\geq 3$ on the right one.\n",
    "\n",
    "SCIP provides a variety of already implemented branching rules (more information about them [here](https://www.scipopt.org/doc-7.0.1/html/group__BRANCHINGRULES.php)). The solver chooses among the rule according to their priority settings. These are the default values for the priorities:\n",
    "\n",
    "|        Name       \t|      Priority      \t|                                                     Description                                                    \t|\n",
    "|:-----------------:\t|:------------------:\t|:------------------------------------------------------------------------------------------------------------------:\t|\n",
    "|     Allfullstrong \t|       $-1000$      \t| All variable full strong branching                                                                                 \t|\n",
    "|             Cloud \t|         $0$        \t| Cloud branching ([paper](http://webdoc.sub.gwdg.de/ebook/serien/ah/ZIB/ZR-13-01.pdf))                              \t|\n",
    "|      Distribution \t|         $0$        \t| Probability based branching rule ([paper](http://www.sce.carleton.ca/faculty/chinneck/docs/PryorChinneck.pdf))     \t|\n",
    "|        Fullstrong \t|         $0$        \t| Full strong branching                                                                                              \t|\n",
    "|          Leastinf \t|        $50$        \t| Least infeasible rule                                                                                              \t|\n",
    "|         Lookahead \t|         $0$        \t| Lookahead branching ([paper](http://citeseerx.ist.psu.edu/viewdoc/download?doi=10.1.1.444.8532&rep=rep1&type=pdf)) \t|\n",
    "|           Mostinf \t|        $100$       \t| Most infeasible rule                                                                                               \t|\n",
    "|          Multaggr \t|         $0$        \t| Fullstrong branching on fractional and multi-aggregated variables                                                  \t|\n",
    "|            Pscost \t|       $2000$       \t| Pseudocosts branching rule                                                                                         \t|\n",
    "|            Random \t|       $-10^5$      \t| Random branching rule                                                                                              \t|\n",
    "|         Relpscost \t|       $10000$      \t| Reliability pseudocosts rule ([paper](http://miplib2010.zib.de/miplib2003/paper/achterbergkochmartin2005_pp.pdf))  \t|\n",
    "| Vanillafullstrong \t|       $-2000$      \t| Vanilla full strong branching.                                                                                     \t|\n",
    "\n",
    "In order to create a custom branching rule in SCIP, we need to create a class that inherits from `scip.Branchrule`. Let's look at the following example of a branching rule that takes decisions at random."
   ]
  },
  {
   "cell_type": "code",
   "execution_count": 3,
   "metadata": {},
   "outputs": [],
   "source": [
    "class RandomBranchRule(scip.Branchrule):\n",
    "    def __init__(self):\n",
    "        pass\n",
    "\n",
    "    def branchinit(self):\n",
    "        ''' executed after the problem has been transformed. '''\n",
    "        pass\n",
    "    \n",
    "    def branchinitsol(self):\n",
    "        '''executed when the presolving is finished and the branch-and-bound process is about to begin. '''\n",
    "        pass\n",
    "\n",
    "    def branchexeclp(self, allowaddcons):\n",
    "        # Executed during node processing if a fractional LP solution is available.\n",
    "        candidate_vars, *_ = self.model.getLPBranchCands()\n",
    "        branch_var_idx = random.randint(0,len(candidate_vars)-1)\n",
    "        branch_var = candidate_vars[branch_var_idx]\n",
    "        self.model.branchVar(branch_var)\n",
    "        result = scip.SCIP_RESULT.BRANCHED\n",
    "        return {\"result\": result}\n",
    "\n",
    "    def branchexitsol(self):\n",
    "        '''executed before the branch-and-bound process is freed '''\n",
    "        pass\n",
    "\n",
    "    def branchexit(self):\n",
    "        '''executed before the transformed problem is freed'''\n",
    "        pass\n",
    "    \n",
    "    def branchfree(self):\n",
    "        '''frees memory of branching rule'''\n",
    "        pass"
   ]
  },
  {
   "cell_type": "markdown",
   "metadata": {},
   "source": [
    "Clearly most of the methods of this class are not doing anything, but I have included them so you can use this as a template. The most important method is `branchexeclp()`. Here we pass SCIP the variable that the solver will use to branch.\n",
    "\n",
    "The next step is to include our custom branching rule and solve the instance."
   ]
  },
  {
   "cell_type": "code",
   "execution_count": null,
   "metadata": {},
   "outputs": [],
   "source": [
    "model = scip.Model()\n",
    "model.readProblem(filename)\n",
    "branchrule = RandomBranchRule()\n",
    "model.includeBranchrule(branchrule=branchrule,\n",
    "                        name=\"CustomRand\", # name of the branching rule\n",
    "                        desc=\"\",           # description of the branching rule\n",
    "                        priority=100000,   # priority: set to this to make it default\n",
    "                        maxdepth=-1,       # maximum depth up to which it will be used, or -1 for no restriction\n",
    "                        maxbounddist=1)    # maximal relative distance from current node's dual bound to primal \n",
    "                                           # bound compared to best node's dual bound for applying branching rule\n",
    "                                           # (0.0: only on current best node, 1.0: on all nodes)\n",
    "model.optimize()\n",
    "model.freeProb()"
   ]
  },
  {
   "cell_type": "markdown",
   "metadata": {},
   "source": [
    "**Note**: this is clearly a very dumb rule. Notice how much longer the solver takes to solve the problem!\n",
    "\n",
    "Let's look now at another (slightly more advanced) example. "
   ]
  },
  {
   "cell_type": "code",
   "execution_count": 18,
   "metadata": {},
   "outputs": [],
   "source": [
    "class MostInfBranchRule(scip.Branchrule):\n",
    "\n",
    "    def branchexeclp(self, allowaddcons):\n",
    "        # Executed during node processing if a fractional LP solution is available.\n",
    "        candidate_vars, candidate_vals, candidate_fracs, *_ = self.model.getLPBranchCands()\n",
    "        branch_var_idx = np.argmax(candidate_fracs)\n",
    "        branch_var = candidate_vars[branch_var_idx]\n",
    "        self.model.branchVar(branch_var)\n",
    "        result = scip.SCIP_RESULT.BRANCHED\n",
    "        return {\"result\": result}\n"
   ]
  },
  {
   "cell_type": "markdown",
   "metadata": {},
   "source": [
    "The two examples that I have presented here are quite bad rules for branching. You can construct fancier rules and extract more information about the candidates using the multiple callbacks that SCIP provides.\n",
    "\n",
    "**Note**: Not all C callbacks are implemented in PySCIPOpt, but you can easily extend the interface using function wrappers!\n",
    "\n",
    "&nbsp;\n",
    "<br />\n",
    "&nbsp;\n",
    "<br />"
   ]
  },
  {
   "cell_type": "markdown",
   "metadata": {},
   "source": [
    "# 3. How to create a custom node selection rule.\n",
    "\n",
    "Node selection rules are responsible for choosing the subproblem that will be processed next. The most widely accepted rules usually balance two strategies: (i) choosing a child of the current node (and therefore going deep into the tree, a.k.a. plunging) and (ii) choosing nodes with good lower bounds. For this reason, SCIP stores children, siblings and leaves in separate data structures. In this context, \"leaves\" refers to all open nodes that are not children or siblings of the current node.\n",
    "\n",
    "These are the node selection rules that SCIP offers (more info [here](https://www.scipopt.org/doc-7.0.1/html/group__NODESELECTORS.php)): \n",
    "\n",
    "| Name        \t| Standard Priority \t| Memory save priority \t| Description                                                                                         \t|\n",
    "|-------------\t|-------------------\t|----------------------\t|-----------------------------------------------------------------------------------------------------\t|\n",
    "| BFS         \t|      100,000      \t|           0          \t| Best first search                                                                                   \t|\n",
    "| Breadth     \t|      -10,000      \t|      -1,000,000      \t| Breadth first search                                                                                \t|\n",
    "| DFS         \t|         0         \t|        100,000       \t| Depth first search                                                                                  \t|\n",
    "| Estimate    \t|      200,000      \t|          100         \t| Best estimate search                                                                                \t|\n",
    "| Hybrid      \t|       50,000      \t|          50          \t| Hybrid best estimate - best first                                                                   \t|\n",
    "| Restart DFS \t|       10,000      \t|        50,000        \t| Restart depth first search                                                                          \t|\n",
    "| UCT         \t|         10        \t|           0          \t| Multi-armed bandit based rule ([paper](http://www.cs.toronto.edu/~horst/cogrobo/papers/uctmip.pdf)) \t|\n",
    "\n",
    "Just like with the brancher plug-in, for node selection we need to define a node selector class.\n",
    "Here, you will be working with node objects. You can find the definition of the Node class in `PySCIPOpt/src/pyscipopt/scip.pyx`. I recommend you to take a look at the different methods that you can use when building your rule. Here I will present some examples.\n",
    "\n",
    "Our node selector class has two fundamental methods:\n",
    "- `nodecomp(node1,node2)`: called to compare two leaves according to your chosen criterion. The inputs are two node objects and the output is a float indicating the preference. \n",
    "- `nodeselect()`: called at each iteration of the solving loop. Here is where the actual node selection takes place. You must return a dictionary of the type `{’selnode’: node}` where node is a node object.\n",
    "\n",
    "Here is an example of the depth-first search rule."
   ]
  },
  {
   "cell_type": "code",
   "execution_count": 23,
   "metadata": {},
   "outputs": [],
   "source": [
    "class DFSNodeSelector(scip.Nodesel):\n",
    "    def __init__(self):\n",
    "        pass\n",
    "    \n",
    "    def nodeinit(self):\n",
    "        ''' executed after the problem is transformed. use this call to initialize node selector data.'''\n",
    "        pass\n",
    "    \n",
    "    def nodeinitsol(self):\n",
    "        '''executed when the presolving is finished and the branch-and-bound process is about to begin'''\n",
    "        pass\n",
    "\n",
    "    def nodeselect(self):\n",
    "        '''first method called in each iteration in the main solving loop. '''\n",
    "        leaves, children, siblings = self.model.getOpenNodes()\n",
    "        \n",
    "        # Select one of the children, if any.\n",
    "        if len(children)>0:\n",
    "            selnode = children[0]\n",
    "        # If there are no children in the list currently, check for siblings.\n",
    "        elif len(siblings)>0:\n",
    "            selnode = siblings[0]\n",
    "        # Finally, if there are no children and no siblings, get the leaf with highest priority.\n",
    "        elif len(leaves)>0:\n",
    "            selnode = self.model.getBestLeaf()\n",
    "        # If the open node list is empty, pass None to terminate search.\n",
    "        else:\n",
    "            selnode = None\n",
    "        return {\"selnode\": selnode}\n",
    "\n",
    "    def nodecomp(self, node1, node2):\n",
    "        '''\n",
    "        compare two leaves of the current branching tree\n",
    "        It should return the following values:\n",
    "          value < 0, if node 1 comes before (is better than) node 2\n",
    "          value = 0, if both nodes are equally good\n",
    "          value > 0, if node 1 comes after (is worse than) node 2.\n",
    "        '''\n",
    "        d1 = node1.getDepth()\n",
    "        d2 = node2.getDepth()\n",
    "        value = d2 - d1\n",
    "        return value\n",
    "    \n",
    "    def nodeexitsol(self):\n",
    "        '''executed before the branch-and-bound process is freed'''\n",
    "        pass    \n",
    "\n",
    "    def nodeexit(self):\n",
    "        '''executed before the transformed problem is freed'''\n",
    "        pass\n",
    "    \n",
    "    def nodefree(self):\n",
    "        '''frees memory of node selector'''\n",
    "        pass\n"
   ]
  },
  {
   "cell_type": "markdown",
   "metadata": {},
   "source": [
    "Once again I have included all possible methods for our class, so you can use it as a template, but I will be omitting the unnecessary ones from now on.\n",
    "\n",
    "With this example I wanted to demonstrate the use of `getOpenNodes()`. Observe that, as I mentioned before, SCIP will subdivide the list of open nodes, because it keeps track of the children, siblings and the rest of the leaves separately. This can be very useful at times.\n",
    "\n",
    "We can write the DFS in a cleaner way by using the SCIP callbacks that return the best node (from each subclass) according to `nodecomp()`.  If the category is empty, this callback returns `None`. "
   ]
  },
  {
   "cell_type": "code",
   "execution_count": 25,
   "metadata": {},
   "outputs": [],
   "source": [
    "class DFSNodeSelector_alt(scip.Nodesel):\n",
    "    def __init__(self):\n",
    "        pass\n",
    "\n",
    "    def nodeselect(self):\n",
    "        '''first method called in each iteration in the main solving loop. '''\n",
    "        selnode = self.model.getBestChild()\n",
    "        if selnode is None:\n",
    "            selnode = self.model.getBestSibling()\n",
    "        if selnode is None:\n",
    "            selnode = self.model.getBestLeaf()\n",
    "        return {\"selnode\": selnode}\n",
    "\n",
    "    def nodecomp(self, node1, node2):\n",
    "        '''\n",
    "        compare two leaves of the current branching tree\n",
    "        It should return the following values:\n",
    "          value < 0, if node 1 comes before (is better than) node 2\n",
    "          value = 0, if both nodes are equally good\n",
    "          value > 0, if node 1 comes after (is worse than) node 2.\n",
    "        '''\n",
    "        d1 = node1.getDepth()\n",
    "        d2 = node2.getDepth()\n",
    "        value = d2 - d1\n",
    "        return value\n"
   ]
  },
  {
   "cell_type": "markdown",
   "metadata": {},
   "source": [
    "We can also obtain the best node across all node subclasses using `getBestNode()`. In the case of DFS, however, doing this would be slightly less efficient, given that we know that children always have priority. By distinguishing node categories, we spare some comparisons.\n",
    "\n",
    "This is not true for other node selection rules though. Here is an example of a best first rule:"
   ]
  },
  {
   "cell_type": "code",
   "execution_count": 27,
   "metadata": {},
   "outputs": [],
   "source": [
    "class BFSNodeSelector(scip.Nodesel):\n",
    "    \n",
    "    def nodeselect(self):\n",
    "        '''first method called in each iteration in the main solving loop. '''\n",
    "        selnode = self.model.getBestNode()\n",
    "        return {\"selnode\": selnode}\n",
    "\n",
    "    def nodecomp(self, node1, node2):\n",
    "        '''\n",
    "        compare two leaves of the current branching tree\n",
    "        It should return the following values:\n",
    "          value < 0, if node 1 comes before (is better than) node 2\n",
    "          value = 0, if both nodes are equally good\n",
    "          value > 0, if node 1 comes after (is worse than) node 2.\n",
    "        '''\n",
    "        b1 = node1.getLowerbound()\n",
    "        b2 = node2.getLowerbound()\n",
    "        if self.model.isLT(b1,b2):\n",
    "            value = -1\n",
    "        elif self.model.isGT(b1,b2):\n",
    "            value = 1\n",
    "        else:\n",
    "            value = 0\n",
    "        return value\n"
   ]
  },
  {
   "cell_type": "markdown",
   "metadata": {},
   "source": [
    "**Note 1**: This is a vanilla implementation of best first search. The actual implementation of SCIP is more sophisticated (e.g. performs plunging rounds).\n",
    "\n",
    "**Note 2**: We have seen examples of the usage of `getBestChild()`. This method returns the best child according to `nodecomp()`. There is another option available: `getPrioChild()`. The difference is that this \"priority child\" is selected according to the branching rule. Not all branching rules implement a priority child selection. The same applies for the sibling category (i.e. `getBestSibling()` vs `getPrioSibling()`). Unfortunately, as of the day this tutorial was written, PySCIPOpt has no wrapper for the `SCIPgetPrioChild()` callback, but you can easily implement this is you need it.\n",
    "\n",
    "Finally, you only have to include your selection rule to the model, in the following way:"
   ]
  },
  {
   "cell_type": "code",
   "execution_count": null,
   "metadata": {},
   "outputs": [],
   "source": [
    "model = scip.Model()\n",
    "model.setIntParam('display/verblevel', 0)\n",
    "model.readProblem(filename)\n",
    "nodeselrule = DFSNodeSelector_alt()\n",
    "model.includeNodesel(nodeselrule,\n",
    "                     name=\"custom_dfs\",      # name of node selector\n",
    "                     desc=\"\",                # description of node selector\n",
    "                     stdpriority=300000,     # priority of the node selector in standard mode\n",
    "                     memsavepriority=300000) # priority of the node selector in memory saving mode\n",
    "model.optimize()\n",
    "model.freeProb()"
   ]
  },
  {
   "cell_type": "markdown",
   "metadata": {},
   "source": [
    "A final comment: notice how much more the solving time deteriorates if we choose a \"dumb\" branching rule, compared to choosing a \"dumb\" node selection rule!"
   ]
  },
  {
   "cell_type": "code",
   "execution_count": null,
   "metadata": {},
   "outputs": [],
   "source": []
  }
 ],
 "metadata": {
  "kernelspec": {
   "display_name": "Python 3",
   "language": "python",
   "name": "python3"
  },
  "language_info": {
   "codemirror_mode": {
    "name": "ipython",
    "version": 3
   },
   "file_extension": ".py",
   "mimetype": "text/x-python",
   "name": "python",
   "nbconvert_exporter": "python",
   "pygments_lexer": "ipython3",
   "version": "3.8.3"
  }
 },
 "nbformat": 4,
 "nbformat_minor": 4
}
